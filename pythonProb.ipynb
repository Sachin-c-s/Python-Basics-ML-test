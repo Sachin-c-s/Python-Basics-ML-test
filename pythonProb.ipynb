{
  "nbformat": 4,
  "nbformat_minor": 0,
  "metadata": {
    "colab": {
      "provenance": []
    },
    "kernelspec": {
      "name": "python3",
      "display_name": "Python 3"
    },
    "language_info": {
      "name": "python"
    }
  },
  "cells": [
    {
      "cell_type": "code",
      "execution_count": 1,
      "metadata": {
        "colab": {
          "base_uri": "https://localhost:8080/"
        },
        "id": "Ojswtp2octdI",
        "outputId": "d9c19d4e-8915-4261-ef18-0a1c79648531"
      },
      "outputs": [
        {
          "output_type": "stream",
          "name": "stdout",
          "text": [
            "Enter a string: helo\n",
            "HELO\n"
          ]
        }
      ],
      "source": [
        "#1. Ask the user for a string and print it in uppercase.\n",
        "string = input(\"enter a string: \")\n",
        "print(string.upper())"
      ]
    },
    {
      "cell_type": "code",
      "source": [
        "#2. Ask the user for a number and print its factorial.\n",
        "def factorial(n):\n",
        " if n < 0:\n",
        "  return \"Factorial is not defined for negative numbers\"\n",
        " elif n == 0:\n",
        "  return 1\n",
        " else:\n",
        "  fact = 1\n",
        " for i in range(1, n + 1):\n",
        "  fact *= i\n",
        " return fact\n",
        "\n",
        "num = int(input(\"Enter a number: \"))\n",
        "print(\"Factorial of\", num, \"is\", factorial(num))"
      ],
      "metadata": {
        "colab": {
          "base_uri": "https://localhost:8080/"
        },
        "id": "H_k5ecC6dQ7s",
        "outputId": "1246e7bd-cb7f-491b-ff12-35f718f78ea4"
      },
      "execution_count": 4,
      "outputs": [
        {
          "output_type": "stream",
          "name": "stdout",
          "text": [
            "Enter a number: 99\n",
            "Factorial of 99 is 933262154439441526816992388562667004907159682643816214685929638952175999932299156089414639761565182862536979208272237582511852109168640000000000000000000000\n"
          ]
        }
      ]
    },
    {
      "cell_type": "code",
      "source": [],
      "metadata": {
        "id": "7Yr6IdiveGNT"
      },
      "execution_count": null,
      "outputs": []
    }
  ]
}